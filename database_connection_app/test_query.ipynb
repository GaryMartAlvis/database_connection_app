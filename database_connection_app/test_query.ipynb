{
 "cells": [
  {
   "cell_type": "markdown",
   "metadata": {},
   "source": [
    "### **APP DE CONEXIÓN BASE DE DATOS**"
   ]
  },
  {
   "cell_type": "markdown",
   "metadata": {},
   "source": [
    "---"
   ]
  },
  {
   "cell_type": "code",
   "execution_count": 4,
   "metadata": {},
   "outputs": [],
   "source": [
    "# Importación de librerias utilizadas para la conección y tratamiento de la información\n",
    "# Conección\n",
    "from sqlalchemy import create_engine\n",
    "from sqlalchemy.engine import URL \n",
    "import pypyodbc as odbc\n",
    "# Tratamiento de información\n",
    "import pandas as pd\n",
    "import pandasql as ps\n",
    "import numpy as np\n",
    "# Tratamiento de fechas\n",
    "from datetime import date\n",
    "# Usuarios y contraseñas protegidas\n",
    "import getpass"
   ]
  },
  {
   "cell_type": "code",
   "execution_count": 5,
   "metadata": {},
   "outputs": [],
   "source": [
    "# Solicitar usuario y contraseña de acceso\n",
    "SERVER_NAME = input('NOMBRE DEL SERVIDOR: ')\n",
    "DATABASE_NAME = input('NOMBRE DE DATABASE: ')\n",
    "db = input('NOMBRE TABLA/VISTA: ')\n",
    "UID = input('Ingresa tu usuario: ')\n",
    "PWD = getpass.getpass('Ingresa tu contraseña: ')"
   ]
  },
  {
   "cell_type": "code",
   "execution_count": 6,
   "metadata": {},
   "outputs": [],
   "source": [
    "# Variable de login\n",
    "connection_string = f'''\n",
    "Driver={{SQL Server}};\n",
    "Server={SERVER_NAME};\n",
    "Database={DATABASE_NAME};\n",
    "Uid={UID};\n",
    "Pwd={PWD};\n",
    "'''"
   ]
  },
  {
   "cell_type": "code",
   "execution_count": 7,
   "metadata": {},
   "outputs": [],
   "source": [
    "# Variable SQL: Consulta SQL para extracción de data\n",
    "# Filtro de fecha: WHERE CONVERT(DATE, fecha, 103) >= CONVERT(DATE, GETDATE()-1, 103)\n",
    "# Código 103 corresponde al formateo de fecha DD/MM/YYYY\n",
    "sql_query = f'''\n",
    "\n",
    "SELECT *\n",
    "FROM {db}\n",
    "-- Filtrar por registros cuya fecha sea la fecha máxima presente en la vista\n",
    "WHERE fecha IN (SELECT MAX(fecha) FROM {db})\n",
    "-- O por registros cuya fecha tenga el máximo valor de fecha para el mes anterior\n",
    "   OR CONVERT(DATE, fecha) = (\n",
    "       SELECT MAX(CONVERT(DATE, fecha))\n",
    "       FROM {db}\n",
    "       WHERE MONTH(fecha) = MONTH(DATEADD(MONTH, -1, GETDATE()))\n",
    "   );\n",
    "\n",
    "'''"
   ]
  },
  {
   "cell_type": "code",
   "execution_count": 8,
   "metadata": {},
   "outputs": [],
   "source": [
    "# Script de conexión con base de datos y servidor\n",
    "connection_url = URL.create('mssql+pyodbc', query={'odbc_connect': connection_string})\n",
    "engine = create_engine(connection_url, module=odbc)"
   ]
  },
  {
   "cell_type": "code",
   "execution_count": 9,
   "metadata": {},
   "outputs": [],
   "source": [
    "# Script de descarga de data de la base de datos de acuerdo a la consulta SQL\n",
    "df = pd.read_sql_query(sql_query, engine)"
   ]
  },
  {
   "cell_type": "markdown",
   "metadata": {},
   "source": [
    "---"
   ]
  },
  {
   "cell_type": "markdown",
   "metadata": {},
   "source": [
    "#### **ANÁLISIS DE DATA**"
   ]
  },
  {
   "cell_type": "markdown",
   "metadata": {},
   "source": [
    "Funciones personalizadas"
   ]
  },
  {
   "cell_type": "code",
   "execution_count": 10,
   "metadata": {},
   "outputs": [],
   "source": [
    "# Funciones de formateo de registros\n",
    "# Formeteo de fecha\n",
    "def date_formatting(fecha):\n",
    "    date = fecha\n",
    "    if type(date) == str:\n",
    "        date = pd.to_datetime(date)\n",
    "    result = date.strftime('%d-%m-%Y')\n",
    "    return result\n",
    "\n",
    "# Formateo de numeros\n",
    "def num_formatting(numero):\n",
    "    return '{:,.2f}'.format(numero)\n",
    "\n",
    "# Proceso de DataFrame a travez de pandasql as ps para realizar consultas sql\n",
    "def show_query(query, df):\n",
    "    result = ps.sqldf(query, locals())\n",
    "    return result"
   ]
  },
  {
   "cell_type": "markdown",
   "metadata": {},
   "source": [
    "Datos generales del DataFrame \"df\""
   ]
  },
  {
   "cell_type": "code",
   "execution_count": 11,
   "metadata": {},
   "outputs": [],
   "source": [
    "# Variables de la base de datos\n",
    "fecha_min = date_formatting(df['fecha'].min())\n",
    "fecha_max = date_formatting(df['fecha'].max())\n",
    "cuenta_df = num_formatting(df['fecha'].nunique())\n",
    "cuenta_total_registros = num_formatting(df['fecha'].count())\n",
    "cuenta_registros_df_max = num_formatting((df['fecha'] == df['fecha'].max()).sum())"
   ]
  },
  {
   "cell_type": "code",
   "execution_count": 12,
   "metadata": {},
   "outputs": [
    {
     "name": "stdout",
     "output_type": "stream",
     "text": [
      "Datos de Generales\n",
      "Tabla: vst_matriz_tbl\n",
      "------------------------------------------------------------\n",
      "Fecha mínima:       31-12-2023\n",
      "Fecha máxima:       17-01-2024\n",
      "Bases de datos:     2.00 Bases de datos\n",
      "Registos totales:   31,882.00 en 2.00 DB\n",
      "Registos ultima DB: 15,934.00 regristros de fecha 17-01-2024\n"
     ]
    }
   ],
   "source": [
    "# Visualización de información \"df\"\n",
    "print(\"Datos de Generales\")\n",
    "print(f\"Tabla: {db}\")\n",
    "print('------------------------------------------------------------')\n",
    "print(f\"Fecha mínima:       {fecha_min}\")\n",
    "print(f\"Fecha máxima:       {fecha_max}\")\n",
    "print(f\"Bases de datos:     {cuenta_df} Bases de datos\")\n",
    "print(f\"Registos totales:   {cuenta_total_registros} en {cuenta_df} DB\")\n",
    "print(f\"Registos ultima DB: {cuenta_registros_df_max} regristros de fecha {fecha_max}\")"
   ]
  },
  {
   "cell_type": "code",
   "execution_count": 13,
   "metadata": {},
   "outputs": [
    {
     "name": "stdout",
     "output_type": "stream",
     "text": [
      "<class 'pandas.core.frame.DataFrame'>\n",
      "RangeIndex: 31882 entries, 0 to 31881\n",
      "Data columns (total 22 columns):\n",
      " #   Column           Non-Null Count  Dtype         \n",
      "---  ------           --------------  -----         \n",
      " 0   agencia          31882 non-null  int64         \n",
      " 1   nombreagencia    31882 non-null  object        \n",
      " 2   prestamo         31882 non-null  int64         \n",
      " 3   fecha            31882 non-null  datetime64[ns]\n",
      " 4   codigooficial    31882 non-null  int64         \n",
      " 5   totalcartera     31882 non-null  float64       \n",
      " 6   prevision        31880 non-null  float64       \n",
      " 7   estado           31882 non-null  int64         \n",
      " 8   moneda           31882 non-null  int64         \n",
      " 9   fechaincumplido  6045 non-null   datetime64[ns]\n",
      " 10  mora             6045 non-null   float64       \n",
      " 11  oficial          31882 non-null  object        \n",
      " 12  nrosocio         31882 non-null  int64         \n",
      " 13  nombrecliente    31882 non-null  object        \n",
      " 14  saldodiferido    8907 non-null   float64       \n",
      " 15  fechadesembolso  31882 non-null  datetime64[ns]\n",
      " 16  montodesembolso  31882 non-null  float64       \n",
      " 17  carnetsocio      31880 non-null  object        \n",
      " 18  calificacion     31880 non-null  object        \n",
      " 19  interes          31882 non-null  float64       \n",
      " 20  interesdiferido  31882 non-null  float64       \n",
      " 21  tasa             31882 non-null  float64       \n",
      "dtypes: datetime64[ns](3), float64(8), int64(6), object(5)\n",
      "memory usage: 5.4+ MB\n",
      "None\n"
     ]
    }
   ],
   "source": [
    "# Datos generales de la tabla\n",
    "print(df.info())"
   ]
  },
  {
   "cell_type": "code",
   "execution_count": 14,
   "metadata": {},
   "outputs": [
    {
     "name": "stdout",
     "output_type": "stream",
     "text": [
      "            agencia      prestamo                          fecha  \\\n",
      "count  31882.000000  3.188200e+04                          31882   \n",
      "mean      21.461326  1.001922e+07  2024-01-08 12:39:37.743076352   \n",
      "min       10.000000  1.439000e+03            2023-12-31 00:00:00   \n",
      "25%       12.000000  1.009491e+07            2023-12-31 00:00:00   \n",
      "50%       18.000000  1.159026e+07            2023-12-31 00:00:00   \n",
      "75%       28.000000  1.249236e+07  2024-01-17 01:30:02.836999936   \n",
      "max       42.000000  1.429103e+07     2024-01-17 01:30:02.837000   \n",
      "std        9.830126  4.334103e+06                            NaN   \n",
      "\n",
      "       codigooficial   totalcartera      prevision        estado  \\\n",
      "count   31882.000000   31882.000000   31880.000000  31882.000000   \n",
      "mean      496.044978    6848.112362     309.920250      2.272630   \n",
      "min        41.000000       0.000000       0.000000      2.000000   \n",
      "25%       428.000000    1337.336370       5.471210      2.000000   \n",
      "50%       515.000000    2725.536443      52.287901      2.000000   \n",
      "75%       606.000000    6072.149052     153.061224      2.000000   \n",
      "max       729.000000  374619.000000  100138.744897      6.000000   \n",
      "std       147.845308   16155.769306    1549.658188      0.881383   \n",
      "\n",
      "             moneda             fechaincumplido          mora       nrosocio  \\\n",
      "count  31882.000000                        6045   6045.000000   31882.000000   \n",
      "mean       1.197478  2022-06-03 04:49:54.342432    587.701075  241647.476193   \n",
      "min        1.000000         1994-10-30 00:00:00      1.000000      92.000000   \n",
      "25%        1.000000         2023-03-09 00:00:00      2.000000  218790.000000   \n",
      "50%        1.000000         2023-12-15 00:00:00     20.000000  267162.000000   \n",
      "75%        1.000000         2024-01-15 00:00:00    312.000000  289222.500000   \n",
      "max        2.000000         2024-01-17 00:00:00  10671.000000  302663.000000   \n",
      "std        0.398102                         NaN   1334.477390   65338.626561   \n",
      "\n",
      "       saldodiferido                fechadesembolso  montodesembolso  \\\n",
      "count    8907.000000                          31882     31882.000000   \n",
      "mean     1345.723141  2021-04-07 07:53:09.887710976     10016.929506   \n",
      "min         0.145772            1994-08-31 00:00:00       218.658892   \n",
      "25%       432.354956            2019-08-15 00:00:00      2200.000000   \n",
      "50%       771.928571            2022-05-21 00:00:00      4373.177843   \n",
      "75%      1498.938775            2023-05-09 00:00:00      8163.265306   \n",
      "max     52380.109329            2024-01-17 00:00:00    459183.673469   \n",
      "std      1997.923263                            NaN     21157.072597   \n",
      "\n",
      "            interes  interesdiferido          tasa  \n",
      "count  31882.000000     31882.000000  31882.000000  \n",
      "mean      87.860093       431.637746     20.399799  \n",
      "min        0.000000         0.000000      5.060000  \n",
      "25%        2.743440         0.000000     16.000000  \n",
      "50%       16.230160         0.000000     21.000000  \n",
      "75%       48.393950         0.000000     25.000000  \n",
      "max    25521.192420     81435.870000     32.000000  \n",
      "std      492.177296      2570.377164      5.946677  \n"
     ]
    }
   ],
   "source": [
    "# Descripción general de las columnas de la tabla\n",
    "print(df.describe())"
   ]
  }
 ],
 "metadata": {
  "kernelspec": {
   "display_name": "Python 3",
   "language": "python",
   "name": "python3"
  },
  "language_info": {
   "codemirror_mode": {
    "name": "ipython",
    "version": 3
   },
   "file_extension": ".py",
   "mimetype": "text/x-python",
   "name": "python",
   "nbconvert_exporter": "python",
   "pygments_lexer": "ipython3",
   "version": "3.11.4"
  }
 },
 "nbformat": 4,
 "nbformat_minor": 2
}
