{
 "cells": [
  {
   "cell_type": "markdown",
   "metadata": {},
   "source": [
    "### **APP DE CONEXIÓN BASE DE DATOS**"
   ]
  },
  {
   "cell_type": "markdown",
   "metadata": {},
   "source": [
    "---"
   ]
  },
  {
   "cell_type": "code",
   "execution_count": 21,
   "metadata": {},
   "outputs": [],
   "source": [
    "# Importación de librerias utilizadas para la conección y tratamiento de la información\n",
    "# Conección\n",
    "from sqlalchemy import create_engine\n",
    "from sqlalchemy.engine import URL \n",
    "import pypyodbc as odbc\n",
    "# Tratamiento de información\n",
    "import pandas as pd\n",
    "import pandasql as ps\n",
    "import numpy as np\n",
    "# Tratamiento de fechas\n",
    "from datetime import date\n",
    "# Usuarios y contraseñas protegidas\n",
    "import getpass"
   ]
  },
  {
   "cell_type": "code",
   "execution_count": 22,
   "metadata": {},
   "outputs": [],
   "source": [
    "# Solicitar usuario y contraseña de acceso\n",
    "SERVER_NAME = input('NOMBRE DEL SERVIDOR: ')\n",
    "DATABASE_NAME = input('NOMBRE DE DATABASE: ')\n",
    "db = input('NOMBRE TABLA/VISTA: ')\n",
    "UID = input('Ingresa tu usuario: ')\n",
    "PWD = getpass.getpass('Ingresa tu contraseña: ')"
   ]
  },
  {
   "cell_type": "code",
   "execution_count": 23,
   "metadata": {},
   "outputs": [],
   "source": [
    "# Variable de login\n",
    "connection_string = f'''\n",
    "Driver={{SQL Server}};\n",
    "Server={SERVER_NAME};\n",
    "Database={DATABASE_NAME};\n",
    "Uid={UID};\n",
    "Pwd={PWD};\n",
    "'''"
   ]
  },
  {
   "cell_type": "code",
   "execution_count": 24,
   "metadata": {},
   "outputs": [],
   "source": [
    "# Variable SQL: Consulta SQL para extracción de data\n",
    "# Filtro de fecha: WHERE CONVERT(DATE, fecha, 103) >= CONVERT(DATE, GETDATE()-1, 103)\n",
    "# Código 103 corresponde al formateo de fecha DD/MM/YYYY\n",
    "sql_query = f'''\n",
    "SELECT *\n",
    "FROM {db} \n",
    "'''"
   ]
  },
  {
   "cell_type": "code",
   "execution_count": 25,
   "metadata": {},
   "outputs": [],
   "source": [
    "# Script de conexión con base de datos y servidor\n",
    "connection_url = URL.create('mssql+pyodbc', query={'odbc_connect': connection_string})\n",
    "engine = create_engine(connection_url, module=odbc)"
   ]
  },
  {
   "cell_type": "code",
   "execution_count": 26,
   "metadata": {},
   "outputs": [],
   "source": [
    "# Script de descarga de data de la base de datos de acuerdo a la consulta SQL\n",
    "df = pd.read_sql_query(sql_query, engine)"
   ]
  },
  {
   "cell_type": "markdown",
   "metadata": {},
   "source": [
    "---"
   ]
  },
  {
   "cell_type": "markdown",
   "metadata": {},
   "source": [
    "#### **ANÁLISIS DE DATA**"
   ]
  },
  {
   "cell_type": "markdown",
   "metadata": {},
   "source": [
    "Funciones personalizadas"
   ]
  },
  {
   "cell_type": "code",
   "execution_count": 27,
   "metadata": {},
   "outputs": [],
   "source": [
    "# Funciones de formateo de registros\n",
    "# Formeteo de fecha\n",
    "def date_formatting(fecha):\n",
    "    date = fecha\n",
    "    if type(date) == str:\n",
    "        date = pd.to_datetime(date)\n",
    "    result = date.strftime('%d-%m-%Y')\n",
    "    return result\n",
    "\n",
    "# Formateo de numeros\n",
    "def num_formatting(numero):\n",
    "    return '{:,.2f}'.format(numero)\n",
    "\n",
    "# Proceso de DataFrame a travez de pandasql as ps para realizar consultas sql\n",
    "def show_query(query, df):\n",
    "    result = ps.sqldf(query, locals())\n",
    "    return result"
   ]
  },
  {
   "cell_type": "markdown",
   "metadata": {},
   "source": [
    "Datos generales del DataFrame \"df\""
   ]
  },
  {
   "cell_type": "code",
   "execution_count": 28,
   "metadata": {},
   "outputs": [],
   "source": [
    "# Variables de la base de datos\n",
    "fecha_min = date_formatting(df['fecha'].min())\n",
    "fecha_max = date_formatting(df['fecha'].max())\n",
    "cuenta_df = num_formatting(df['fecha'].nunique())\n",
    "cuenta_total_registros = num_formatting(df['fecha'].count())\n",
    "cuenta_registros_df_max = num_formatting((df['fecha'] == df['fecha'].max()).sum())"
   ]
  },
  {
   "cell_type": "code",
   "execution_count": 29,
   "metadata": {},
   "outputs": [
    {
     "name": "stdout",
     "output_type": "stream",
     "text": [
      "Datos de Generales\n",
      "Tabla: Finanza_Score_Cartera_tbl\n",
      "------------------------------------------------------------\n",
      "Fecha mínima:       03-07-2023\n",
      "Fecha máxima:       17-01-2024\n",
      "Bases de datos:     185.00 Bases de datos\n",
      "Registos totales:   2,892,837.00 en 185.00 DB\n",
      "Registos ultima DB: 15,934.00 regristros de fecha 17-01-2024\n"
     ]
    }
   ],
   "source": [
    "# Visualización de información \"df\"\n",
    "print(\"Datos de Generales\")\n",
    "print(f\"Tabla: {db}\")\n",
    "print('------------------------------------------------------------')\n",
    "print(f\"Fecha mínima:       {fecha_min}\")\n",
    "print(f\"Fecha máxima:       {fecha_max}\")\n",
    "print(f\"Bases de datos:     {cuenta_df} Bases de datos\")\n",
    "print(f\"Registos totales:   {cuenta_total_registros} en {cuenta_df} DB\")\n",
    "print(f\"Registos ultima DB: {cuenta_registros_df_max} regristros de fecha {fecha_max}\")"
   ]
  },
  {
   "cell_type": "markdown",
   "metadata": {},
   "source": [
    "* Análisis exploratorio"
   ]
  },
  {
   "cell_type": "code",
   "execution_count": 30,
   "metadata": {},
   "outputs": [],
   "source": [
    "query = '''\n",
    "SELECT * \n",
    "FROM df\n",
    "'''\n",
    "df_query = show_query(query, df)"
   ]
  },
  {
   "cell_type": "code",
   "execution_count": 31,
   "metadata": {},
   "outputs": [],
   "source": [
    "# Variables de la base de datos\n",
    "fecha_min_df = date_formatting(df_query['fecha'].min())\n",
    "fecha_max_df = date_formatting(df_query['fecha'].max())\n",
    "cuenta_df_df = num_formatting(df_query['fecha'].nunique())\n",
    "cuenta_total_registros_df = num_formatting(df_query['fecha'].count())\n",
    "cuenta_registros_df_max_df = num_formatting((df_query['fecha'] == df_query['fecha'].max()).sum())"
   ]
  },
  {
   "cell_type": "code",
   "execution_count": 32,
   "metadata": {},
   "outputs": [
    {
     "name": "stdout",
     "output_type": "stream",
     "text": [
      "Datos de control de la tabla\n",
      "Tabla: DataFrame con Sub-consulta SQL a Finanza_Score_Cartera_tbl\n",
      "------------------------------------------------------------\n",
      "Fecha mínima:       03-07-2023\n",
      "Fecha máxima:       17-01-2024\n",
      "Bases de datos:     185.00 Bases de datos\n",
      "Registos totales:   2,892,837.00 en 185.00 DB\n",
      "Registos ultima DB: 15,934.00 regristros de fecha 17-01-2024\n"
     ]
    }
   ],
   "source": [
    "# Visualización de información \"df_query\"\n",
    "print(\"Datos de control de la tabla\")\n",
    "print(f\"Tabla: DataFrame con Sub-consulta SQL a {db}\")\n",
    "print('------------------------------------------------------------')\n",
    "print(f\"Fecha mínima:       {fecha_min_df}\")\n",
    "print(f\"Fecha máxima:       {fecha_max_df}\")\n",
    "print(f\"Bases de datos:     {cuenta_df_df} Bases de datos\")\n",
    "print(f\"Registos totales:   {cuenta_total_registros_df} en {cuenta_df_df} DB\")\n",
    "print(f\"Registos ultima DB: {cuenta_registros_df_max_df} regristros de fecha {fecha_max_df}\")"
   ]
  },
  {
   "cell_type": "code",
   "execution_count": 33,
   "metadata": {},
   "outputs": [
    {
     "name": "stdout",
     "output_type": "stream",
     "text": [
      "<class 'pandas.core.frame.DataFrame'>\n",
      "RangeIndex: 2892837 entries, 0 to 2892836\n",
      "Data columns (total 18 columns):\n",
      " #   Column           Dtype  \n",
      "---  ------           -----  \n",
      " 0   agencia          int64  \n",
      " 1   prestamo         int64  \n",
      " 2   fecha            object \n",
      " 3   codigooficial    int64  \n",
      " 4   saldodolares     float64\n",
      " 5   vigente          float64\n",
      " 6   atrazado         float64\n",
      " 7   vencido          float64\n",
      " 8   ejecutado        float64\n",
      " 9   prevision        float64\n",
      " 10  estado           int64  \n",
      " 11  moneda           int64  \n",
      " 12  fechaincumplido  object \n",
      " 13  mora             float64\n",
      " 14  oficial          object \n",
      " 15  nrosocio         int64  \n",
      " 16  nombrecliente    object \n",
      " 17  saldodiferido    float64\n",
      "dtypes: float64(8), int64(6), object(4)\n",
      "memory usage: 397.3+ MB\n",
      "None\n"
     ]
    }
   ],
   "source": [
    "# Datos de la tabla\n",
    "print(df_query.info())"
   ]
  },
  {
   "cell_type": "code",
   "execution_count": 34,
   "metadata": {},
   "outputs": [
    {
     "name": "stdout",
     "output_type": "stream",
     "text": [
      "            agencia      prestamo  codigooficial  saldodolares       vigente  \\\n",
      "count  2.892837e+06  2.892837e+06   2.892837e+06  2.892837e+06  2.207873e+06   \n",
      "mean   2.193009e+01  9.981603e+06   4.919735e+02  6.617113e+03  7.451637e+03   \n",
      "std    9.814789e+00  4.393651e+06   1.434137e+02  1.613412e+04  1.729192e+04   \n",
      "min    1.000000e+01  1.181000e+03   4.100000e+01  0.000000e+00  0.000000e+00   \n",
      "25%    1.400000e+01  1.009460e+07   4.280000e+02  1.147838e+03  1.438112e+03   \n",
      "50%    2.200000e+01  1.159030e+07   5.130000e+02  2.613692e+03  2.953810e+03   \n",
      "75%    2.900000e+01  1.249230e+07   6.050000e+02  6.017633e+03  6.491901e+03   \n",
      "max    4.300000e+01  1.429103e+07   7.290000e+02  4.591837e+05  4.591837e+05   \n",
      "\n",
      "            atrazado        vencido      ejecutado     prevision  \\\n",
      "count  296990.000000  243020.000000   22342.000000  2.892640e+06   \n",
      "mean     6122.372150    3308.258835   16346.061203  3.364543e+02   \n",
      "std     15428.275165    8657.358800   26250.771208  1.645746e+03   \n",
      "min         0.000000       0.000000       0.000000  0.000000e+00   \n",
      "25%      1179.790000     420.688047    4654.062682  7.093294e+00   \n",
      "50%      2682.330000    1499.260000    7729.206997  5.450292e+01   \n",
      "75%      5971.361515    3259.749270   13318.039358  1.655904e+02   \n",
      "max    322869.137026  315593.772594  200277.489796  1.052163e+05   \n",
      "\n",
      "             estado        moneda           mora      nrosocio  saldodiferido  \n",
      "count  2.892837e+06  2.892837e+06  581197.000000  2.892837e+06   1.035992e+06  \n",
      "mean   2.295248e+00  1.199309e+00     639.059873  2.384311e+05   1.122038e+03  \n",
      "std    9.114488e-01  3.994808e-01    1426.514008  6.548617e+04   1.877697e+03  \n",
      "min    2.000000e+00  1.000000e+00       1.000000  9.200000e+01   0.000000e+00  \n",
      "25%    2.000000e+00  1.000000e+00       6.000000  2.152920e+05   2.385248e+02  \n",
      "50%    2.000000e+00  1.000000e+00      26.000000  2.645310e+05   6.149169e+02  \n",
      "75%    2.000000e+00  1.000000e+00     299.000000  2.867520e+05   1.307334e+03  \n",
      "max    6.000000e+00  2.000000e+00   10671.000000  3.026630e+05   5.238011e+04  \n"
     ]
    }
   ],
   "source": [
    "# Descrición por columan de la tabla\n",
    "print(df_query.describe())"
   ]
  }
 ],
 "metadata": {
  "kernelspec": {
   "display_name": "Python 3",
   "language": "python",
   "name": "python3"
  },
  "language_info": {
   "codemirror_mode": {
    "name": "ipython",
    "version": 3
   },
   "file_extension": ".py",
   "mimetype": "text/x-python",
   "name": "python",
   "nbconvert_exporter": "python",
   "pygments_lexer": "ipython3",
   "version": "3.11.4"
  }
 },
 "nbformat": 4,
 "nbformat_minor": 2
}
