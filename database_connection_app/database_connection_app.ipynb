{
 "cells": [
  {
   "cell_type": "markdown",
   "metadata": {},
   "source": [
    "### **APP DE CONEXIÓN BASE DE DATOS**"
   ]
  },
  {
   "cell_type": "markdown",
   "metadata": {},
   "source": [
    "---"
   ]
  },
  {
   "cell_type": "code",
   "execution_count": 61,
   "metadata": {},
   "outputs": [],
   "source": [
    "# Importación de librerias utilizadas para la conección y tratamiento de la información\n",
    "# Conección\n",
    "from sqlalchemy import create_engine\n",
    "from sqlalchemy.engine import URL \n",
    "import pypyodbc as odbc\n",
    "# Tratamiento de información\n",
    "import pandas as pd\n",
    "import pandasql as ps\n",
    "import numpy as np\n",
    "# Tratamiento de fechas\n",
    "from datetime import date\n",
    "# Usuarios y contraseñas protegidas\n",
    "import getpass"
   ]
  },
  {
   "cell_type": "code",
   "execution_count": 62,
   "metadata": {},
   "outputs": [],
   "source": [
    "# Solicitar usuario y contraseña de acceso\n",
    "SERVER_NAME = input('NOMBRE DEL SERVIDOR: ')\n",
    "DATABASE_NAME = input('NOMBRE DE DATABASE: ')\n",
    "db = input('NOMBRE TABLA/VISTA: ')\n",
    "UID = input('Ingresa tu usuario: ')\n",
    "PWD = getpass.getpass('Ingresa tu contraseña: ')"
   ]
  },
  {
   "cell_type": "code",
   "execution_count": 63,
   "metadata": {},
   "outputs": [],
   "source": [
    "# Variable de login\n",
    "connection_string = f'''\n",
    "Driver={{SQL Server}};\n",
    "Server={SERVER_NAME};\n",
    "Database={DATABASE_NAME};\n",
    "Uid={UID};\n",
    "Pwd={PWD};\n",
    "'''"
   ]
  },
  {
   "cell_type": "code",
   "execution_count": 64,
   "metadata": {},
   "outputs": [],
   "source": [
    "# Variable SQL: Consulta SQL para extracción de data\n",
    "# Filtro de fecha: WHERE CONVERT(DATE, fecha, 103) >= CONVERT(DATE, GETDATE()-1, 103)\n",
    "# Código 103 corresponde al formateo de fecha DD/MM/YYYY\n",
    "sql_query = f'''\n",
    "SELECT *\n",
    "FROM {db} \n",
    "'''"
   ]
  },
  {
   "cell_type": "code",
   "execution_count": 65,
   "metadata": {},
   "outputs": [],
   "source": [
    "# Script de conexión con base de datos y servidor\n",
    "connection_url = URL.create('mssql+pyodbc', query={'odbc_connect': connection_string})\n",
    "engine = create_engine(connection_url, module=odbc)"
   ]
  },
  {
   "cell_type": "code",
   "execution_count": 66,
   "metadata": {},
   "outputs": [],
   "source": [
    "# Script de descarga de data de la base de datos de acuerdo a la consulta SQL\n",
    "df = pd.read_sql_query(sql_query, engine)"
   ]
  },
  {
   "cell_type": "markdown",
   "metadata": {},
   "source": [
    "---"
   ]
  },
  {
   "cell_type": "markdown",
   "metadata": {},
   "source": [
    "#### **ANÁLISIS DE DATA**"
   ]
  },
  {
   "cell_type": "markdown",
   "metadata": {},
   "source": [
    "Funciones personalizadas"
   ]
  },
  {
   "cell_type": "code",
   "execution_count": 67,
   "metadata": {},
   "outputs": [],
   "source": [
    "# Funciones de formateo de registros\n",
    "# Formeteo de fecha\n",
    "def date_formatting(fecha):\n",
    "    date = fecha\n",
    "    if type(date) == str:\n",
    "        date = pd.to_datetime(date)\n",
    "    result = date.strftime('%d-%m-%Y')\n",
    "    return result\n",
    "\n",
    "# Formateo de numeros\n",
    "def num_formatting(numero):\n",
    "    return '{:,.2f}'.format(numero)\n",
    "\n",
    "# Proceso de DataFrame a travez de pandasql as ps para realizar consultas sql\n",
    "def show_query(query, df):\n",
    "    result = ps.sqldf(query, locals())\n",
    "    return result"
   ]
  },
  {
   "cell_type": "markdown",
   "metadata": {},
   "source": [
    "Datos generales del DataFrame \"df\""
   ]
  },
  {
   "cell_type": "code",
   "execution_count": 68,
   "metadata": {},
   "outputs": [],
   "source": [
    "# Variables de la base de datos\n",
    "fecha_min = date_formatting(df['fecha'].min())\n",
    "fecha_max = date_formatting(df['fecha'].max())\n",
    "cuenta_df = num_formatting(df['fecha'].nunique())\n",
    "cuenta_total_registros = num_formatting(df['fecha'].count())\n",
    "cuenta_registros_df_max = num_formatting((df['fecha'] == df['fecha'].max()).sum())"
   ]
  },
  {
   "cell_type": "code",
   "execution_count": 69,
   "metadata": {},
   "outputs": [
    {
     "name": "stdout",
     "output_type": "stream",
     "text": [
      "Datos de Generales\n",
      "Tabla: vst_matriz_tbl\n",
      "------------------------------------------------------------\n",
      "Fecha mínima:       22-11-2023\n",
      "Fecha máxima:       15-01-2024\n",
      "Bases de datos:     46.00 Bases de datos\n",
      "Registos totales:   733,378.00 en 46.00 DB\n",
      "Registos ultima DB: 15,925.00 regristros de fecha 15-01-2024\n"
     ]
    }
   ],
   "source": [
    "# Visualización de información \"df\"\n",
    "print(\"Datos de Generales\")\n",
    "print(f\"Tabla: {db}\")\n",
    "print('------------------------------------------------------------')\n",
    "print(f\"Fecha mínima:       {fecha_min}\")\n",
    "print(f\"Fecha máxima:       {fecha_max}\")\n",
    "print(f\"Bases de datos:     {cuenta_df} Bases de datos\")\n",
    "print(f\"Registos totales:   {cuenta_total_registros} en {cuenta_df} DB\")\n",
    "print(f\"Registos ultima DB: {cuenta_registros_df_max} regristros de fecha {fecha_max}\")"
   ]
  },
  {
   "cell_type": "markdown",
   "metadata": {},
   "source": [
    "* Análisis exploratorio"
   ]
  },
  {
   "cell_type": "code",
   "execution_count": 70,
   "metadata": {},
   "outputs": [],
   "source": [
    "query = '''\n",
    "SELECT * \n",
    "FROM df\n",
    "'''\n",
    "df_query = show_query(query, df)"
   ]
  },
  {
   "cell_type": "code",
   "execution_count": 71,
   "metadata": {},
   "outputs": [],
   "source": [
    "# Variables de la base de datos\n",
    "fecha_min_df = date_formatting(df_query['fecha'].min())\n",
    "fecha_max_df = date_formatting(df_query['fecha'].max())\n",
    "cuenta_df_df = num_formatting(df_query['fecha'].nunique())\n",
    "cuenta_total_registros_df = num_formatting(df_query['fecha'].count())\n",
    "cuenta_registros_df_max_df = num_formatting((df_query['fecha'] == df_query['fecha'].max()).sum())"
   ]
  },
  {
   "cell_type": "code",
   "execution_count": 72,
   "metadata": {},
   "outputs": [
    {
     "name": "stdout",
     "output_type": "stream",
     "text": [
      "Datos de control de la tabla\n",
      "Tabla: DataFrame con Sub-consulta SQL a vst_matriz_tbl\n",
      "------------------------------------------------------------\n",
      "Fecha mínima:       22-11-2023\n",
      "Fecha máxima:       15-01-2024\n",
      "Bases de datos:     46.00 Bases de datos\n",
      "Registos totales:   733,378.00 en 46.00 DB\n",
      "Registos ultima DB: 15,925.00 regristros de fecha 15-01-2024\n"
     ]
    }
   ],
   "source": [
    "# Visualización de información \"df_query\"\n",
    "print(\"Datos de control de la tabla\")\n",
    "print(f\"Tabla: DataFrame con Sub-consulta SQL a {db}\")\n",
    "print('------------------------------------------------------------')\n",
    "print(f\"Fecha mínima:       {fecha_min_df}\")\n",
    "print(f\"Fecha máxima:       {fecha_max_df}\")\n",
    "print(f\"Bases de datos:     {cuenta_df_df} Bases de datos\")\n",
    "print(f\"Registos totales:   {cuenta_total_registros_df} en {cuenta_df_df} DB\")\n",
    "print(f\"Registos ultima DB: {cuenta_registros_df_max_df} regristros de fecha {fecha_max_df}\")"
   ]
  }
 ],
 "metadata": {
  "kernelspec": {
   "display_name": "Python 3",
   "language": "python",
   "name": "python3"
  },
  "language_info": {
   "codemirror_mode": {
    "name": "ipython",
    "version": 3
   },
   "file_extension": ".py",
   "mimetype": "text/x-python",
   "name": "python",
   "nbconvert_exporter": "python",
   "pygments_lexer": "ipython3",
   "version": "3.11.4"
  }
 },
 "nbformat": 4,
 "nbformat_minor": 2
}
